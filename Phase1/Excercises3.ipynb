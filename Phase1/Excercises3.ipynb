{
 "cells": [
  {
   "cell_type": "code",
   "execution_count": 1,
   "id": "8b42db2e-3c53-4fc6-b99a-1b68ac39d56b",
   "metadata": {
    "editable": true,
    "slideshow": {
     "slide_type": ""
    },
    "tags": []
   },
   "outputs": [],
   "source": [
    "# An experiment consists of selecting a movie from a list. \n",
    "# The list contains sci-fi and romantic movies. \n",
    "# Each movie has a certain probability of being selected."
   ]
  },
  {
   "cell_type": "code",
   "execution_count": 2,
   "id": "1cc131b3-f4a3-44e1-816a-e75050d27f28",
   "metadata": {},
   "outputs": [],
   "source": [
    "# - Create a list with 2 `\"Sci-Fi Movies\"`s."
   ]
  },
  {
   "cell_type": "code",
   "execution_count": 3,
   "id": "9b94e8fb-492e-4855-8a75-1b949b279fce",
   "metadata": {},
   "outputs": [],
   "source": [
    "# - Create a list with 5 `\"Romantic Comedy Movies\"`s."
   ]
  },
  {
   "cell_type": "code",
   "execution_count": 4,
   "id": "560920ec-8992-4469-b37a-adf1e69198f9",
   "metadata": {
    "editable": true,
    "scrolled": true,
    "slideshow": {
     "slide_type": ""
    },
    "tags": []
   },
   "outputs": [
    {
     "data": {
      "text/plain": [
       "['Sci-Fi',\n",
       " 'Sci-Fi',\n",
       " 'Romantic',\n",
       " 'Romantic',\n",
       " 'Romantic',\n",
       " 'Romantic',\n",
       " 'Romantic']"
      ]
     },
     "execution_count": 4,
     "metadata": {},
     "output_type": "execute_result"
    }
   ],
   "source": [
    "movies = [\"Sci-Fi\"] * 2 + [\"Romantic\"] * 5\n",
    "movies"
   ]
  },
  {
   "cell_type": "code",
   "execution_count": 5,
   "id": "3f00f009-3d41-488b-a5fc-280f4bf3ac73",
   "metadata": {
    "editable": true,
    "slideshow": {
     "slide_type": ""
    },
    "tags": []
   },
   "outputs": [
    {
     "data": {
      "text/plain": [
       "['Action',\n",
       " 'Drama',\n",
       " 'Drama',\n",
       " 'Drama',\n",
       " 'Drama',\n",
       " 'Drama',\n",
       " 'Drama',\n",
       " 'Drama',\n",
       " 'Drama',\n",
       " 'Drama']"
      ]
     },
     "execution_count": 5,
     "metadata": {},
     "output_type": "execute_result"
    }
   ],
   "source": [
    "movies2 = [\"Action\"] * 1 + [\"Drama\"] * 9\n",
    "movies2"
   ]
  },
  {
   "cell_type": "code",
   "execution_count": 6,
   "id": "c00fc214-1d9a-48c7-82b0-197e625d2bd9",
   "metadata": {
    "editable": true,
    "slideshow": {
     "slide_type": ""
    },
    "tags": []
   },
   "outputs": [
    {
     "data": {
      "text/plain": [
       "['Family',\n",
       " 'Thriller',\n",
       " 'Thriller',\n",
       " 'Thriller',\n",
       " 'Thriller',\n",
       " 'Thriller',\n",
       " 'Thriller',\n",
       " 'Thriller',\n",
       " 'Thriller',\n",
       " 'Thriller',\n",
       " 'Thriller',\n",
       " 'Thriller',\n",
       " 'Thriller',\n",
       " 'Thriller',\n",
       " 'Thriller',\n",
       " 'Thriller',\n",
       " 'Thriller',\n",
       " 'Thriller',\n",
       " 'Thriller',\n",
       " 'Thriller',\n",
       " 'Thriller',\n",
       " 'Thriller',\n",
       " 'Thriller',\n",
       " 'Thriller',\n",
       " 'Thriller',\n",
       " 'Thriller',\n",
       " 'Thriller',\n",
       " 'Thriller',\n",
       " 'Thriller',\n",
       " 'Thriller',\n",
       " 'Thriller',\n",
       " 'Thriller',\n",
       " 'Thriller',\n",
       " 'Thriller',\n",
       " 'Thriller',\n",
       " 'Thriller',\n",
       " 'Thriller',\n",
       " 'Thriller',\n",
       " 'Thriller',\n",
       " 'Thriller',\n",
       " 'Thriller',\n",
       " 'Thriller',\n",
       " 'Thriller',\n",
       " 'Thriller',\n",
       " 'Thriller',\n",
       " 'Thriller',\n",
       " 'Thriller',\n",
       " 'Thriller',\n",
       " 'Thriller',\n",
       " 'Thriller',\n",
       " 'Thriller',\n",
       " 'Thriller',\n",
       " 'Thriller',\n",
       " 'Thriller',\n",
       " 'Thriller',\n",
       " 'Thriller',\n",
       " 'Thriller',\n",
       " 'Thriller',\n",
       " 'Thriller',\n",
       " 'Thriller',\n",
       " 'Thriller',\n",
       " 'Thriller',\n",
       " 'Thriller',\n",
       " 'Thriller',\n",
       " 'Thriller',\n",
       " 'Thriller',\n",
       " 'Thriller',\n",
       " 'Thriller',\n",
       " 'Thriller',\n",
       " 'Thriller',\n",
       " 'Thriller',\n",
       " 'Thriller',\n",
       " 'Thriller',\n",
       " 'Thriller',\n",
       " 'Thriller',\n",
       " 'Thriller',\n",
       " 'Thriller',\n",
       " 'Thriller',\n",
       " 'Thriller',\n",
       " 'Thriller',\n",
       " 'Thriller',\n",
       " 'Thriller',\n",
       " 'Thriller',\n",
       " 'Thriller',\n",
       " 'Thriller',\n",
       " 'Thriller',\n",
       " 'Thriller',\n",
       " 'Thriller',\n",
       " 'Thriller',\n",
       " 'Thriller',\n",
       " 'Thriller',\n",
       " 'Thriller',\n",
       " 'Thriller',\n",
       " 'Thriller',\n",
       " 'Thriller',\n",
       " 'Thriller',\n",
       " 'Thriller',\n",
       " 'Thriller',\n",
       " 'Thriller',\n",
       " 'Thriller']"
      ]
     },
     "execution_count": 6,
     "metadata": {},
     "output_type": "execute_result"
    }
   ],
   "source": [
    "movies3 = [\"Family\"] * 1 + [\"Thriller\"] * 99\n",
    "movies3"
   ]
  },
  {
   "cell_type": "code",
   "execution_count": 7,
   "id": "0da4ca30-d16e-4027-ab8a-789a155aa0c2",
   "metadata": {
    "editable": true,
    "slideshow": {
     "slide_type": ""
    },
    "tags": []
   },
   "outputs": [
    {
     "data": {
      "text/plain": [
       "['Horror']"
      ]
     },
     "execution_count": 7,
     "metadata": {},
     "output_type": "execute_result"
    }
   ],
   "source": [
    "movies4 = [\"Horror\"] * 1 + [\"Documentary\"] * 0\n",
    "movies4"
   ]
  },
  {
   "cell_type": "code",
   "execution_count": 8,
   "id": "fbe0da9a-ff85-4665-8ac1-ff07b2fa21bd",
   "metadata": {
    "editable": true,
    "slideshow": {
     "slide_type": ""
    },
    "tags": []
   },
   "outputs": [
    {
     "data": {
      "text/plain": [
       "'Romantic'"
      ]
     },
     "execution_count": 8,
     "metadata": {},
     "output_type": "execute_result"
    }
   ],
   "source": [
    "import random\n",
    "random.choice(movies)"
   ]
  },
  {
   "cell_type": "code",
   "execution_count": 9,
   "id": "a94f0afa-85be-4b82-a092-fa3397b8fc08",
   "metadata": {
    "editable": true,
    "slideshow": {
     "slide_type": ""
    },
    "tags": []
   },
   "outputs": [],
   "source": [
    "def pick_a_token(container):\n",
    "    \"\"\"\n",
    "    Docstring\n",
    "    A function to randomly sample from a `container`.\n",
    "    \"\"\"\n",
    "    return random.choice(container)\n",
    "    "
   ]
  },
  {
   "cell_type": "code",
   "execution_count": 10,
   "id": "fd72c113-5145-4128-8dc8-140f5a429f89",
   "metadata": {
    "editable": true,
    "slideshow": {
     "slide_type": ""
    },
    "tags": []
   },
   "outputs": [
    {
     "data": {
      "text/plain": [
       "'Romantic'"
      ]
     },
     "execution_count": 10,
     "metadata": {},
     "output_type": "execute_result"
    }
   ],
   "source": [
    "pick_a_token(container=movies)"
   ]
  },
  {
   "cell_type": "code",
   "execution_count": 11,
   "id": "986db8b2-3a36-40ee-8bec-781334d45c3e",
   "metadata": {
    "editable": true,
    "slideshow": {
     "slide_type": ""
    },
    "tags": []
   },
   "outputs": [
    {
     "data": {
      "text/plain": [
       "'Drama'"
      ]
     },
     "execution_count": 11,
     "metadata": {},
     "output_type": "execute_result"
    }
   ],
   "source": [
    "pick_a_token(container=movies2)"
   ]
  },
  {
   "cell_type": "code",
   "execution_count": 12,
   "id": "e26b82cf-4a0f-437b-ad32-20e662e44336",
   "metadata": {
    "editable": true,
    "slideshow": {
     "slide_type": ""
    },
    "tags": []
   },
   "outputs": [
    {
     "data": {
      "text/plain": [
       "'Thriller'"
      ]
     },
     "execution_count": 12,
     "metadata": {},
     "output_type": "execute_result"
    }
   ],
   "source": [
    "pick_a_token(container=movies3)"
   ]
  },
  {
   "cell_type": "code",
   "execution_count": 13,
   "id": "fab8249c-1a69-4838-bbe8-00c04cf3bf66",
   "metadata": {
    "editable": true,
    "slideshow": {
     "slide_type": ""
    },
    "tags": []
   },
   "outputs": [
    {
     "data": {
      "text/plain": [
       "'Horror'"
      ]
     },
     "execution_count": 13,
     "metadata": {},
     "output_type": "execute_result"
    }
   ],
   "source": [
    "pick_a_token(container=movies4)"
   ]
  },
  {
   "cell_type": "code",
   "execution_count": 14,
   "id": "4ea8dd44-aa47-4ebc-a47d-cb77f3037db6",
   "metadata": {
    "editable": true,
    "slideshow": {
     "slide_type": ""
    },
    "tags": []
   },
   "outputs": [],
   "source": [
    "# In order to simulate the probability of picking a Sci-Fi movie we need to repeat\n",
    "# this not once or twice but tens of thousands of times. We will do this using\n",
    "# something called a \"list comprehension\" which is akin to the mathematical\n",
    "# notation we use all the time to create sets:"
   ]
  },
  {
   "cell_type": "code",
   "execution_count": 15,
   "id": "71b742d8-5d4e-4682-8608-fffd8f86c57e",
   "metadata": {
    "editable": true,
    "slideshow": {
     "slide_type": ""
    },
    "tags": []
   },
   "outputs": [
    {
     "data": {
      "text/plain": [
       "['Romantic',\n",
       " 'Sci-Fi',\n",
       " 'Romantic',\n",
       " 'Romantic',\n",
       " 'Romantic',\n",
       " 'Romantic',\n",
       " 'Romantic',\n",
       " 'Romantic',\n",
       " 'Romantic',\n",
       " 'Romantic']"
      ]
     },
     "execution_count": 15,
     "metadata": {},
     "output_type": "execute_result"
    }
   ],
   "source": [
    "number_of_repetitions = 10\n",
    "samples = [pick_a_token(container=movies) for _ in range(number_of_repetitions)]\n",
    "samples"
   ]
  },
  {
   "cell_type": "code",
   "execution_count": 16,
   "id": "5b785a4f-e776-4080-b292-a76bdc37777d",
   "metadata": {
    "editable": true,
    "slideshow": {
     "slide_type": ""
    },
    "tags": []
   },
   "outputs": [
    {
     "data": {
      "text/plain": [
       "['Drama',\n",
       " 'Action',\n",
       " 'Drama',\n",
       " 'Drama',\n",
       " 'Drama',\n",
       " 'Drama',\n",
       " 'Drama',\n",
       " 'Drama',\n",
       " 'Drama',\n",
       " 'Drama',\n",
       " 'Action',\n",
       " 'Drama',\n",
       " 'Drama',\n",
       " 'Drama',\n",
       " 'Drama',\n",
       " 'Drama',\n",
       " 'Drama',\n",
       " 'Drama',\n",
       " 'Drama',\n",
       " 'Drama']"
      ]
     },
     "execution_count": 16,
     "metadata": {},
     "output_type": "execute_result"
    }
   ],
   "source": [
    "number_of_repetitions = 20\n",
    "samples = [pick_a_token(container=movies2) for _ in range(number_of_repetitions)]\n",
    "samples"
   ]
  },
  {
   "cell_type": "code",
   "execution_count": 17,
   "id": "b0af63f6-3912-40ab-b234-37170ccf6ca9",
   "metadata": {
    "editable": true,
    "slideshow": {
     "slide_type": ""
    },
    "tags": []
   },
   "outputs": [
    {
     "data": {
      "text/plain": [
       "['Thriller',\n",
       " 'Thriller',\n",
       " 'Family',\n",
       " 'Thriller',\n",
       " 'Thriller',\n",
       " 'Thriller',\n",
       " 'Thriller',\n",
       " 'Thriller',\n",
       " 'Thriller',\n",
       " 'Thriller',\n",
       " 'Thriller',\n",
       " 'Thriller',\n",
       " 'Thriller',\n",
       " 'Thriller',\n",
       " 'Thriller',\n",
       " 'Thriller',\n",
       " 'Thriller',\n",
       " 'Thriller',\n",
       " 'Thriller',\n",
       " 'Thriller',\n",
       " 'Family',\n",
       " 'Thriller',\n",
       " 'Thriller',\n",
       " 'Thriller',\n",
       " 'Thriller',\n",
       " 'Thriller',\n",
       " 'Thriller',\n",
       " 'Thriller',\n",
       " 'Thriller',\n",
       " 'Thriller',\n",
       " 'Thriller',\n",
       " 'Thriller',\n",
       " 'Thriller',\n",
       " 'Thriller',\n",
       " 'Thriller',\n",
       " 'Thriller',\n",
       " 'Thriller',\n",
       " 'Thriller',\n",
       " 'Thriller',\n",
       " 'Thriller',\n",
       " 'Thriller',\n",
       " 'Thriller',\n",
       " 'Thriller',\n",
       " 'Thriller',\n",
       " 'Thriller',\n",
       " 'Thriller',\n",
       " 'Thriller',\n",
       " 'Thriller',\n",
       " 'Thriller',\n",
       " 'Thriller',\n",
       " 'Thriller',\n",
       " 'Thriller',\n",
       " 'Thriller',\n",
       " 'Thriller',\n",
       " 'Thriller',\n",
       " 'Thriller',\n",
       " 'Thriller',\n",
       " 'Thriller',\n",
       " 'Thriller',\n",
       " 'Thriller',\n",
       " 'Thriller',\n",
       " 'Thriller',\n",
       " 'Thriller',\n",
       " 'Thriller',\n",
       " 'Thriller',\n",
       " 'Thriller',\n",
       " 'Thriller',\n",
       " 'Thriller',\n",
       " 'Thriller',\n",
       " 'Thriller',\n",
       " 'Thriller',\n",
       " 'Thriller',\n",
       " 'Thriller',\n",
       " 'Thriller',\n",
       " 'Thriller',\n",
       " 'Thriller',\n",
       " 'Thriller',\n",
       " 'Thriller',\n",
       " 'Thriller',\n",
       " 'Thriller',\n",
       " 'Thriller',\n",
       " 'Thriller',\n",
       " 'Thriller',\n",
       " 'Thriller',\n",
       " 'Thriller',\n",
       " 'Thriller',\n",
       " 'Thriller',\n",
       " 'Thriller',\n",
       " 'Thriller',\n",
       " 'Thriller',\n",
       " 'Thriller',\n",
       " 'Thriller',\n",
       " 'Thriller',\n",
       " 'Thriller',\n",
       " 'Thriller',\n",
       " 'Thriller',\n",
       " 'Thriller',\n",
       " 'Thriller',\n",
       " 'Thriller',\n",
       " 'Thriller',\n",
       " 'Thriller',\n",
       " 'Thriller',\n",
       " 'Thriller',\n",
       " 'Thriller',\n",
       " 'Thriller',\n",
       " 'Thriller',\n",
       " 'Thriller',\n",
       " 'Thriller',\n",
       " 'Thriller',\n",
       " 'Thriller',\n",
       " 'Thriller',\n",
       " 'Thriller',\n",
       " 'Thriller',\n",
       " 'Thriller',\n",
       " 'Thriller',\n",
       " 'Thriller',\n",
       " 'Thriller',\n",
       " 'Thriller',\n",
       " 'Thriller',\n",
       " 'Thriller',\n",
       " 'Thriller',\n",
       " 'Thriller',\n",
       " 'Thriller',\n",
       " 'Thriller',\n",
       " 'Thriller',\n",
       " 'Thriller',\n",
       " 'Thriller',\n",
       " 'Thriller',\n",
       " 'Thriller',\n",
       " 'Thriller',\n",
       " 'Thriller',\n",
       " 'Thriller',\n",
       " 'Thriller',\n",
       " 'Thriller',\n",
       " 'Thriller',\n",
       " 'Thriller',\n",
       " 'Thriller',\n",
       " 'Thriller',\n",
       " 'Thriller',\n",
       " 'Thriller',\n",
       " 'Thriller',\n",
       " 'Thriller',\n",
       " 'Thriller',\n",
       " 'Thriller',\n",
       " 'Thriller',\n",
       " 'Thriller',\n",
       " 'Thriller',\n",
       " 'Thriller',\n",
       " 'Thriller',\n",
       " 'Thriller',\n",
       " 'Thriller',\n",
       " 'Thriller',\n",
       " 'Thriller',\n",
       " 'Thriller',\n",
       " 'Thriller',\n",
       " 'Thriller',\n",
       " 'Thriller',\n",
       " 'Thriller',\n",
       " 'Thriller',\n",
       " 'Thriller',\n",
       " 'Thriller',\n",
       " 'Thriller',\n",
       " 'Thriller',\n",
       " 'Thriller',\n",
       " 'Thriller',\n",
       " 'Thriller',\n",
       " 'Thriller',\n",
       " 'Thriller',\n",
       " 'Thriller',\n",
       " 'Thriller',\n",
       " 'Thriller',\n",
       " 'Thriller',\n",
       " 'Thriller',\n",
       " 'Thriller',\n",
       " 'Thriller',\n",
       " 'Thriller',\n",
       " 'Thriller',\n",
       " 'Thriller',\n",
       " 'Thriller',\n",
       " 'Thriller',\n",
       " 'Thriller',\n",
       " 'Thriller',\n",
       " 'Thriller',\n",
       " 'Thriller',\n",
       " 'Thriller',\n",
       " 'Thriller',\n",
       " 'Thriller',\n",
       " 'Thriller',\n",
       " 'Thriller',\n",
       " 'Thriller',\n",
       " 'Thriller',\n",
       " 'Thriller',\n",
       " 'Thriller',\n",
       " 'Thriller',\n",
       " 'Thriller',\n",
       " 'Thriller',\n",
       " 'Thriller',\n",
       " 'Thriller',\n",
       " 'Thriller',\n",
       " 'Thriller']"
      ]
     },
     "execution_count": 17,
     "metadata": {},
     "output_type": "execute_result"
    }
   ],
   "source": [
    "number_of_repetitions = 200\n",
    "samples = [pick_a_token(container=movies3) for _ in range(number_of_repetitions)]\n",
    "samples"
   ]
  },
  {
   "cell_type": "code",
   "execution_count": 18,
   "id": "bcb6b30e-3265-48ec-b4d6-3514a5efadd8",
   "metadata": {
    "editable": true,
    "scrolled": true,
    "slideshow": {
     "slide_type": ""
    },
    "tags": []
   },
   "outputs": [
    {
     "data": {
      "text/plain": [
       "['Horror',\n",
       " 'Horror',\n",
       " 'Horror',\n",
       " 'Horror',\n",
       " 'Horror',\n",
       " 'Horror',\n",
       " 'Horror',\n",
       " 'Horror',\n",
       " 'Horror',\n",
       " 'Horror',\n",
       " 'Horror',\n",
       " 'Horror',\n",
       " 'Horror',\n",
       " 'Horror',\n",
       " 'Horror',\n",
       " 'Horror',\n",
       " 'Horror',\n",
       " 'Horror',\n",
       " 'Horror',\n",
       " 'Horror',\n",
       " 'Horror',\n",
       " 'Horror',\n",
       " 'Horror',\n",
       " 'Horror',\n",
       " 'Horror',\n",
       " 'Horror',\n",
       " 'Horror',\n",
       " 'Horror',\n",
       " 'Horror',\n",
       " 'Horror',\n",
       " 'Horror',\n",
       " 'Horror',\n",
       " 'Horror',\n",
       " 'Horror',\n",
       " 'Horror',\n",
       " 'Horror',\n",
       " 'Horror',\n",
       " 'Horror',\n",
       " 'Horror',\n",
       " 'Horror',\n",
       " 'Horror',\n",
       " 'Horror',\n",
       " 'Horror',\n",
       " 'Horror',\n",
       " 'Horror',\n",
       " 'Horror',\n",
       " 'Horror',\n",
       " 'Horror',\n",
       " 'Horror',\n",
       " 'Horror',\n",
       " 'Horror',\n",
       " 'Horror',\n",
       " 'Horror',\n",
       " 'Horror',\n",
       " 'Horror',\n",
       " 'Horror',\n",
       " 'Horror',\n",
       " 'Horror',\n",
       " 'Horror',\n",
       " 'Horror',\n",
       " 'Horror',\n",
       " 'Horror',\n",
       " 'Horror',\n",
       " 'Horror',\n",
       " 'Horror',\n",
       " 'Horror',\n",
       " 'Horror',\n",
       " 'Horror',\n",
       " 'Horror',\n",
       " 'Horror',\n",
       " 'Horror',\n",
       " 'Horror',\n",
       " 'Horror',\n",
       " 'Horror',\n",
       " 'Horror',\n",
       " 'Horror',\n",
       " 'Horror',\n",
       " 'Horror',\n",
       " 'Horror',\n",
       " 'Horror',\n",
       " 'Horror',\n",
       " 'Horror',\n",
       " 'Horror',\n",
       " 'Horror',\n",
       " 'Horror',\n",
       " 'Horror',\n",
       " 'Horror',\n",
       " 'Horror',\n",
       " 'Horror',\n",
       " 'Horror',\n",
       " 'Horror',\n",
       " 'Horror',\n",
       " 'Horror',\n",
       " 'Horror',\n",
       " 'Horror',\n",
       " 'Horror',\n",
       " 'Horror',\n",
       " 'Horror',\n",
       " 'Horror',\n",
       " 'Horror']"
      ]
     },
     "execution_count": 18,
     "metadata": {},
     "output_type": "execute_result"
    }
   ],
   "source": [
    "number_of_repetitions = 100\n",
    "samples = [pick_a_token(container=movies4) for _ in range(number_of_repetitions)]\n",
    "samples"
   ]
  },
  {
   "cell_type": "code",
   "execution_count": 19,
   "id": "1c37c759-863f-4d9e-ba1c-eeb3a3dbeec4",
   "metadata": {
    "editable": true,
    "slideshow": {
     "slide_type": ""
    },
    "tags": []
   },
   "outputs": [],
   "source": [
    "#PART 2"
   ]
  },
  {
   "cell_type": "code",
   "execution_count": 20,
   "id": "f03fc077-057f-4cba-aec9-0717777ba7c0",
   "metadata": {
    "editable": true,
    "slideshow": {
     "slide_type": ""
    },
    "tags": []
   },
   "outputs": [
    {
     "data": {
      "text/plain": [
       "['red', 'red', 'red', 'red', 'green', 'green', 'green', 'green']"
      ]
     },
     "execution_count": 20,
     "metadata": {},
     "output_type": "execute_result"
    }
   ],
   "source": [
    "bag1 = [\"red\"] * 4 + [\"green\"] * 4\n",
    "bag1"
   ]
  },
  {
   "cell_type": "code",
   "execution_count": 21,
   "id": "e1cb6f87-186b-465f-9113-ec6e66d346cd",
   "metadata": {
    "editable": true,
    "slideshow": {
     "slide_type": ""
    },
    "tags": []
   },
   "outputs": [
    {
     "data": {
      "text/plain": [
       "'green'"
      ]
     },
     "execution_count": 21,
     "metadata": {},
     "output_type": "execute_result"
    }
   ],
   "source": [
    "import random\n",
    "random.choice(bag1)"
   ]
  },
  {
   "cell_type": "code",
   "execution_count": 22,
   "id": "deea0398-dca6-46ef-a101-177c57377911",
   "metadata": {
    "editable": true,
    "slideshow": {
     "slide_type": ""
    },
    "tags": []
   },
   "outputs": [
    {
     "data": {
      "text/plain": [
       "['red',\n",
       " 'green',\n",
       " 'green',\n",
       " 'green',\n",
       " 'green',\n",
       " 'green',\n",
       " 'green',\n",
       " 'green',\n",
       " 'green',\n",
       " 'green',\n",
       " 'red',\n",
       " 'red',\n",
       " 'red',\n",
       " 'green',\n",
       " 'green',\n",
       " 'red',\n",
       " 'red',\n",
       " 'red',\n",
       " 'red',\n",
       " 'green']"
      ]
     },
     "execution_count": 22,
     "metadata": {},
     "output_type": "execute_result"
    }
   ],
   "source": [
    "number_of_repetitions = 20\n",
    "samples = [pick_a_token(container=bag1) for _ in range(number_of_repetitions)]\n",
    "samples"
   ]
  },
  {
   "cell_type": "code",
   "execution_count": 23,
   "id": "2b269edc-6a50-44fe-9d0b-7eba5eea11ca",
   "metadata": {
    "editable": true,
    "slideshow": {
     "slide_type": ""
    },
    "tags": []
   },
   "outputs": [
    {
     "data": {
      "text/plain": [
       "['red',\n",
       " 'red',\n",
       " 'red',\n",
       " 'red',\n",
       " 'green',\n",
       " 'green',\n",
       " 'green',\n",
       " 'green',\n",
       " 'yellow',\n",
       " 'yellow',\n",
       " 'yellow',\n",
       " 'yellow',\n",
       " 'yellow',\n",
       " 'yellow',\n",
       " 'yellow',\n",
       " 'yellow',\n",
       " 'yellow',\n",
       " 'yellow']"
      ]
     },
     "execution_count": 23,
     "metadata": {},
     "output_type": "execute_result"
    }
   ],
   "source": [
    "bag2 = [\"red\"] * 4 + [\"green\"] * 4 + [\"yellow\"] * 10 \n",
    "bag2"
   ]
  },
  {
   "cell_type": "code",
   "execution_count": 24,
   "id": "bf82d4ce-d4c6-40c4-b543-1b9e7ca6e9ba",
   "metadata": {
    "editable": true,
    "slideshow": {
     "slide_type": ""
    },
    "tags": []
   },
   "outputs": [
    {
     "data": {
      "text/plain": [
       "'yellow'"
      ]
     },
     "execution_count": 24,
     "metadata": {},
     "output_type": "execute_result"
    }
   ],
   "source": [
    "import random\n",
    "random.choice(bag2)"
   ]
  },
  {
   "cell_type": "code",
   "execution_count": 25,
   "id": "0dc9387d-0719-40c5-9d96-7fe3a8f21a5b",
   "metadata": {
    "editable": true,
    "slideshow": {
     "slide_type": ""
    },
    "tags": []
   },
   "outputs": [
    {
     "data": {
      "text/plain": [
       "['red',\n",
       " 'yellow',\n",
       " 'yellow',\n",
       " 'red',\n",
       " 'yellow',\n",
       " 'red',\n",
       " 'green',\n",
       " 'yellow',\n",
       " 'yellow',\n",
       " 'green',\n",
       " 'yellow',\n",
       " 'red',\n",
       " 'green',\n",
       " 'yellow',\n",
       " 'red',\n",
       " 'yellow',\n",
       " 'yellow',\n",
       " 'green',\n",
       " 'yellow',\n",
       " 'yellow']"
      ]
     },
     "execution_count": 25,
     "metadata": {},
     "output_type": "execute_result"
    }
   ],
   "source": [
    "number_of_repetitions = 20\n",
    "samples = [pick_a_token(container=bag2) for _ in range(number_of_repetitions)]\n",
    "samples"
   ]
  },
  {
   "cell_type": "code",
   "execution_count": 26,
   "id": "23606022-3304-4994-9195-caa42b69d344",
   "metadata": {
    "editable": true,
    "scrolled": true,
    "slideshow": {
     "slide_type": ""
    },
    "tags": []
   },
   "outputs": [
    {
     "data": {
      "text/plain": [
       "['green',\n",
       " 'green',\n",
       " 'green',\n",
       " 'green',\n",
       " 'yellow',\n",
       " 'yellow',\n",
       " 'yellow',\n",
       " 'yellow',\n",
       " 'yellow',\n",
       " 'yellow',\n",
       " 'yellow',\n",
       " 'yellow',\n",
       " 'yellow',\n",
       " 'yellow']"
      ]
     },
     "execution_count": 26,
     "metadata": {},
     "output_type": "execute_result"
    }
   ],
   "source": [
    "bag3 = [\"red\"] * 0 + [\"green\"] * 4 + [\"yellow\"] * 10\n",
    "bag3"
   ]
  },
  {
   "cell_type": "code",
   "execution_count": 27,
   "id": "6c30bc29-a433-4d69-8b2a-331449ccd57c",
   "metadata": {
    "editable": true,
    "slideshow": {
     "slide_type": ""
    },
    "tags": []
   },
   "outputs": [
    {
     "data": {
      "text/plain": [
       "'yellow'"
      ]
     },
     "execution_count": 27,
     "metadata": {},
     "output_type": "execute_result"
    }
   ],
   "source": [
    "import random\n",
    "random.choice(bag3)"
   ]
  },
  {
   "cell_type": "code",
   "execution_count": 28,
   "id": "9bb0dfc8-f015-4fb2-a659-f37662f5371d",
   "metadata": {
    "editable": true,
    "slideshow": {
     "slide_type": ""
    },
    "tags": []
   },
   "outputs": [
    {
     "data": {
      "text/plain": [
       "['green',\n",
       " 'green',\n",
       " 'yellow',\n",
       " 'yellow',\n",
       " 'green',\n",
       " 'yellow',\n",
       " 'yellow',\n",
       " 'green',\n",
       " 'green',\n",
       " 'yellow',\n",
       " 'yellow',\n",
       " 'yellow',\n",
       " 'yellow',\n",
       " 'yellow',\n",
       " 'yellow',\n",
       " 'yellow',\n",
       " 'yellow',\n",
       " 'green',\n",
       " 'yellow',\n",
       " 'yellow']"
      ]
     },
     "execution_count": 28,
     "metadata": {},
     "output_type": "execute_result"
    }
   ],
   "source": [
    "number_of_repetitions = 20\n",
    "samples = [pick_a_token(container=bag3) for _ in range(number_of_repetitions)]\n",
    "samples"
   ]
  },
  {
   "cell_type": "code",
   "execution_count": 29,
   "id": "138d4f5e-2647-4530-86c0-b0d76f3e0f44",
   "metadata": {
    "editable": true,
    "slideshow": {
     "slide_type": ""
    },
    "tags": []
   },
   "outputs": [],
   "source": [
    "#Part 3"
   ]
  },
  {
   "cell_type": "code",
   "execution_count": 30,
   "id": "bea71748-22dd-4140-ab48-54a68d8cdf1a",
   "metadata": {
    "editable": true,
    "slideshow": {
     "slide_type": ""
    },
    "tags": []
   },
   "outputs": [],
   "source": [
    "bag4 = [\"red\"] *3 + [\"blue\"] *4 "
   ]
  },
  {
   "cell_type": "code",
   "execution_count": 31,
   "id": "bbbb2313-fcf8-45d5-b239-e3340cbaf65e",
   "metadata": {
    "editable": true,
    "slideshow": {
     "slide_type": ""
    },
    "tags": []
   },
   "outputs": [],
   "source": [
    "number_of_repetitions = 1_000_000\n",
    "samples = [pick_a_token(container=bag4) for _ in range(number_of_repetitions)]\n",
    "#samples"
   ]
  },
  {
   "cell_type": "code",
   "execution_count": 32,
   "id": "c82a3458-881e-4f0c-9532-0569936427b4",
   "metadata": {
    "editable": true,
    "slideshow": {
     "slide_type": ""
    },
    "tags": []
   },
   "outputs": [
    {
     "data": {
      "text/plain": [
       "1000000"
      ]
     },
     "execution_count": 32,
     "metadata": {},
     "output_type": "execute_result"
    }
   ],
   "source": [
    "len(samples)"
   ]
  },
  {
   "cell_type": "code",
   "execution_count": 33,
   "id": "b02461d6-2b46-4f83-94bb-f05da4ecab69",
   "metadata": {
    "editable": true,
    "slideshow": {
     "slide_type": ""
    },
    "tags": []
   },
   "outputs": [
    {
     "data": {
      "text/plain": [
       "0.428796"
      ]
     },
     "execution_count": 33,
     "metadata": {},
     "output_type": "execute_result"
    }
   ],
   "source": [
    "sum(token == \"red\" for token in samples) / number_of_repetitions"
   ]
  },
  {
   "cell_type": "code",
   "execution_count": 34,
   "id": "b2154c38-ccae-47df-9409-c6528094ed0b",
   "metadata": {
    "editable": true,
    "slideshow": {
     "slide_type": ""
    },
    "tags": []
   },
   "outputs": [],
   "source": [
    "def sample_experiment(bag_choice):\n",
    "    selected_token = pick_a_token(container=bag_choice)\n",
    "    if selected_token == \"red\":\n",
    "        probability_of_selecting_heads = 4/5\n",
    "    else:\n",
    "        probability_of_selecting_heads = 2/5\n",
    "    if random.random() < probability_of_selecting_heads:\n",
    "        coin = \"Heads\"\n",
    "    else:\n",
    "        coin = \"Tails\"\n",
    "    return selected_token, coin"
   ]
  },
  {
   "cell_type": "code",
   "execution_count": 35,
   "id": "03b15d31-672b-4fb5-8a70-efdcab5915e7",
   "metadata": {
    "editable": true,
    "slideshow": {
     "slide_type": ""
    },
    "tags": []
   },
   "outputs": [
    {
     "data": {
      "text/plain": [
       "('blue', 'Tails')"
      ]
     },
     "execution_count": 35,
     "metadata": {},
     "output_type": "execute_result"
    }
   ],
   "source": [
    "sample_experiment(bag4)"
   ]
  },
  {
   "cell_type": "code",
   "execution_count": 36,
   "id": "5c6738b0-837d-46d5-9054-c1f17aab1c94",
   "metadata": {
    "editable": true,
    "slideshow": {
     "slide_type": ""
    },
    "tags": []
   },
   "outputs": [
    {
     "data": {
      "text/plain": [
       "0.571249"
      ]
     },
     "execution_count": 36,
     "metadata": {},
     "output_type": "execute_result"
    }
   ],
   "source": [
    "samples2 = [sample_experiment(bag4) for repetition in range (number_of_repetitions)]\n",
    "sum(coin == \"Heads\" for token, coin in samples2) / number_of_repetitions"
   ]
  },
  {
   "cell_type": "code",
   "execution_count": 37,
   "id": "005163dd-34d3-40d7-b04f-07fefbc01b2f",
   "metadata": {
    "editable": true,
    "slideshow": {
     "slide_type": ""
    },
    "tags": []
   },
   "outputs": [
    {
     "data": {
      "text/plain": [
       "1000000"
      ]
     },
     "execution_count": 37,
     "metadata": {},
     "output_type": "execute_result"
    }
   ],
   "source": [
    "len(samples2)"
   ]
  },
  {
   "cell_type": "code",
   "execution_count": 38,
   "id": "0e77cdcb-3b46-4fd7-99a0-640432dbb2d1",
   "metadata": {
    "editable": true,
    "slideshow": {
     "slide_type": ""
    },
    "tags": []
   },
   "outputs": [
    {
     "data": {
      "text/plain": [
       "0.6000395624324945"
      ]
     },
     "execution_count": 38,
     "metadata": {},
     "output_type": "execute_result"
    }
   ],
   "source": [
    "samples_with_heads = [(token, coin) for token, coin in samples2 if coin == \"Heads\"]\n",
    "sum(token == \"red\" for token, coin in samples_with_heads) / len(samples_with_heads)\n"
   ]
  },
  {
   "cell_type": "code",
   "execution_count": 39,
   "id": "466a19ac-df61-4d7f-b6a1-84fec4de290a",
   "metadata": {
    "editable": true,
    "slideshow": {
     "slide_type": ""
    },
    "tags": []
   },
   "outputs": [],
   "source": [
    "#Part 4"
   ]
  },
  {
   "cell_type": "code",
   "execution_count": 40,
   "id": "a4ecfae5-991f-40e8-9fae-bb4485305878",
   "metadata": {
    "editable": true,
    "slideshow": {
     "slide_type": ""
    },
    "tags": []
   },
   "outputs": [],
   "source": [
    "# Define probabilities of movement\n",
    "prob_car = 1 / 2\n",
    "prob_bicycle = 1 / 6\n",
    "prob_foot = 1 / 3\n",
    "\n",
    "# Define probabilities of lateness\n",
    "prob_late_given_car = 1 / 5\n",
    "prob_late_given_bicycle = 2 / 5\n",
    "prob_late_given_foot = 1 / 10\n"
   ]
  },
  {
   "cell_type": "code",
   "execution_count": 44,
   "id": "8fc5cb05-6d0f-4e00-8337-48ffb8e53e7b",
   "metadata": {},
   "outputs": [],
   "source": [
    "# Function to simulate the experiment\n",
    "def sample_experiment():\n",
    "    # Random selection of travel mode\n",
    "    travel_mode = random.choices(['car', 'bicycle', 'foot'], weights=[prob_car, prob_bicycle, prob_foot], k=1)[0]\n",
    "    \n",
    "    # Determine probability of being late based on travel mode\n",
    "    if travel_mode == 'car':\n",
    "        prob_late = prob_late_given_car\n",
    "    elif travel_mode == 'bicycle':\n",
    "        prob_late = prob_late_given_bicycle\n",
    "    else:\n",
    "        prob_late = prob_late_given_foot\n",
    "    \n",
    "    # Determine if late based on probability\n",
    "    is_late = random.choices([True, False], weights=[prob_late, 1 - prob_late], k=1)[0]\n",
    "    \n",
    "    return travel_mode, is_late"
   ]
  },
  {
   "cell_type": "code",
   "execution_count": 45,
   "id": "c8c22a31-c83c-4ee9-b557-17f1a3ed0dd4",
   "metadata": {},
   "outputs": [],
   "source": [
    "# Run actual experiment of simulating lateness by method probability"
   ]
  },
  {
   "cell_type": "code",
   "execution_count": 46,
   "id": "e9e8e779-3b1c-4e0f-bd02-090992a09cc5",
   "metadata": {
    "collapsed": true,
    "jupyter": {
     "outputs_hidden": true
    },
    "scrolled": true
   },
   "outputs": [
    {
     "name": "stdout",
     "output_type": "stream",
     "text": [
      "('bicycle', False)\n",
      "('bicycle', False)\n",
      "('foot', False)\n",
      "('car', False)\n",
      "('car', False)\n",
      "('car', False)\n",
      "('car', False)\n",
      "('foot', False)\n",
      "('car', False)\n",
      "('car', False)\n",
      "('car', False)\n",
      "('bicycle', True)\n",
      "('car', False)\n",
      "('car', True)\n",
      "('foot', False)\n",
      "('foot', True)\n",
      "('bicycle', False)\n",
      "('foot', False)\n",
      "('car', False)\n",
      "('foot', False)\n",
      "('car', True)\n",
      "('car', False)\n",
      "('bicycle', True)\n",
      "('car', False)\n",
      "('car', False)\n",
      "('foot', False)\n",
      "('car', False)\n",
      "('foot', False)\n",
      "('car', True)\n",
      "('car', False)\n",
      "('car', True)\n",
      "('car', False)\n",
      "('car', False)\n",
      "('foot', False)\n",
      "('bicycle', False)\n",
      "('car', False)\n",
      "('bicycle', False)\n",
      "('foot', False)\n",
      "('car', False)\n",
      "('bicycle', True)\n",
      "('foot', False)\n",
      "('foot', False)\n",
      "('foot', False)\n",
      "('car', False)\n",
      "('car', False)\n",
      "('car', False)\n",
      "('bicycle', True)\n",
      "('car', False)\n",
      "('foot', False)\n",
      "('foot', False)\n",
      "('bicycle', True)\n",
      "('bicycle', True)\n",
      "('car', False)\n",
      "('foot', False)\n",
      "('bicycle', False)\n",
      "('foot', False)\n",
      "('foot', False)\n",
      "('car', False)\n",
      "('car', True)\n",
      "('car', True)\n",
      "('car', False)\n",
      "('foot', False)\n",
      "('car', False)\n",
      "('car', False)\n",
      "('foot', False)\n",
      "('bicycle', False)\n",
      "('car', False)\n",
      "('bicycle', True)\n",
      "('foot', False)\n",
      "('foot', False)\n",
      "('foot', False)\n",
      "('bicycle', True)\n",
      "('car', False)\n",
      "('car', True)\n",
      "('foot', False)\n",
      "('bicycle', True)\n",
      "('foot', False)\n",
      "('car', False)\n",
      "('foot', True)\n",
      "('car', False)\n",
      "('foot', False)\n",
      "('bicycle', False)\n",
      "('foot', False)\n",
      "('bicycle', True)\n",
      "('foot', False)\n",
      "('car', False)\n",
      "('car', False)\n",
      "('car', False)\n",
      "('foot', False)\n",
      "('car', False)\n",
      "('car', True)\n",
      "('foot', False)\n",
      "('foot', True)\n",
      "('bicycle', False)\n",
      "('car', False)\n",
      "('bicycle', False)\n",
      "('foot', False)\n",
      "('car', False)\n",
      "('bicycle', True)\n",
      "('car', False)\n"
     ]
    }
   ],
   "source": [
    "for _ in range(100):\n",
    "    print(sample_experiment())"
   ]
  },
  {
   "cell_type": "code",
   "execution_count": null,
   "id": "42e4735f-b056-4588-bc23-62eb0ec5213b",
   "metadata": {},
   "outputs": [],
   "source": [
    "# Run trial simulation"
   ]
  },
  {
   "cell_type": "code",
   "execution_count": 48,
   "id": "b9944b8b-53cc-4a26-ae17-885b07f46aca",
   "metadata": {},
   "outputs": [
    {
     "name": "stdout",
     "output_type": "stream",
     "text": [
      "Approximate probability that an individual travels by foot and is late: 0.0333\n",
      "Approximate probability that an individual is not late: 0.8012\n",
      "Approximate probability that an individual is late and did not travel on foot: 0.8327\n"
     ]
    }
   ],
   "source": [
    "num_trials = 100000\n",
    "results = [sample_experiment() for _ in range (num_trials)]\n",
    "\n",
    "# Filter the results for various conditions\n",
    "# foot ant late = \n",
    "foot_and_late = [(mode, late) for mode, late in results if mode == 'foot' and late]\n",
    "not_late = [(mode, late) for mode, late in results if not late]\n",
    "late = [(mode, late) for mode, late in results if late]\n",
    "late_not_foot = [(mode, late) for mode, late in results if late and mode != 'foot']\n",
    "\n",
    "# Calculate probabilities\n",
    "prob_foot_and_late = len(foot_and_late) / num_trials\n",
    "prob_not_late = len(not_late) / num_trials\n",
    "prob_late_given_not_foot = len(late_not_foot) / len(late) if len(late) > 0 else 0\n",
    "\n",
    "# results 1\n",
    "print(f\"Approximate probability that an individual travels by foot and is late: {prob_foot_and_late:.4f}\")\n",
    "# results 2\n",
    "print(f\"Approximate probability that an individual is not late: {prob_not_late:.4f}\")\n",
    "# results 3\n",
    "print(f\"Approximate probability that an individual is late and did not travel on foot: {prob_late_given_not_foot:.4f}\")"
   ]
  },
  {
   "cell_type": "code",
   "execution_count": 50,
   "id": "ee1f85bc-a056-493e-81b4-2a67f6050fdd",
   "metadata": {},
   "outputs": [
    {
     "name": "stdout",
     "output_type": "stream",
     "text": [
      "On branch main\n",
      "Your branch is up to date with 'origin/main'.\n",
      "\n",
      "Changes not staged for commit:\n",
      "  (use \"git add <file>...\" to update what will be committed)\n",
      "  (use \"git restore <file>...\" to discard changes in working directory)\n",
      "\t\u001b[31mmodified:   2_Tutorial.md\u001b[m\n",
      "\n",
      "Untracked files:\n",
      "  (use \"git add <file>...\" to include in what will be committed)\n",
      "\t\u001b[31m../.DS_Store\u001b[m\n",
      "\t\u001b[31mExcercises3.ipynb\u001b[m\n",
      "\t\u001b[31mUntitled1.ipynb\u001b[m\n",
      "\n",
      "no changes added to commit (use \"git add\" and/or \"git commit -a\")\n"
     ]
    }
   ],
   "source": [
    "!git status\n"
   ]
  },
  {
   "cell_type": "code",
   "execution_count": 51,
   "id": "9a874301-1ff8-4e7f-a452-07b7f0054f70",
   "metadata": {},
   "outputs": [],
   "source": [
    "!git add ."
   ]
  },
  {
   "cell_type": "code",
   "execution_count": 52,
   "id": "4d42a8e4-ea1d-4f1d-8506-28eca37a84b5",
   "metadata": {},
   "outputs": [
    {
     "name": "stdout",
     "output_type": "stream",
     "text": [
      "[main 3260fc8] Probability Excerise\n",
      " Committer: Peter <peter@Zipcoders-MacBook-Pro-6.local>\n",
      "Your name and email address were configured automatically based\n",
      "on your username and hostname. Please check that they are accurate.\n",
      "You can suppress this message by setting them explicitly:\n",
      "\n",
      "    git config --global user.name \"Your Name\"\n",
      "    git config --global user.email you@example.com\n",
      "\n",
      "After doing this, you may fix the identity used for this commit with:\n",
      "\n",
      "    git commit --amend --reset-author\n",
      "\n",
      " 3 files changed, 1809 insertions(+), 1 deletion(-)\n",
      " create mode 100644 Phase1/Excercises3.ipynb\n",
      " create mode 100644 Phase1/Untitled1.ipynb\n"
     ]
    }
   ],
   "source": [
    "!git commit -m \"Probability Excerise\""
   ]
  },
  {
   "cell_type": "code",
   "execution_count": 53,
   "id": "d28621b9-4c5a-44e6-a35a-e9c972a93b96",
   "metadata": {},
   "outputs": [
    {
     "name": "stdout",
     "output_type": "stream",
     "text": [
      "Enumerating objects: 9, done.\n",
      "Counting objects: 100% (9/9), done.\n",
      "Delta compression using up to 8 threads\n",
      "Compressing objects: 100% (6/6), done.\n",
      "Writing objects: 100% (6/6), 4.94 KiB | 4.94 MiB/s, done.\n",
      "Total 6 (delta 3), reused 0 (delta 0), pack-reused 0\n",
      "remote: Resolving deltas: 100% (3/3), completed with 3 local objects.\u001b[K\n",
      "To https://github.com/PeterVanBeever/Uncertainty-Python.git\n",
      "   a1f97b3..3260fc8  main -> main\n"
     ]
    }
   ],
   "source": [
    "!git push origin main"
   ]
  },
  {
   "cell_type": "code",
   "execution_count": null,
   "id": "392288c3-94af-43f5-a02b-ec3e4fea6275",
   "metadata": {},
   "outputs": [],
   "source": []
  }
 ],
 "metadata": {
  "kernelspec": {
   "display_name": "Python 3 (ipykernel)",
   "language": "python",
   "name": "python3"
  },
  "language_info": {
   "codemirror_mode": {
    "name": "ipython",
    "version": 3
   },
   "file_extension": ".py",
   "mimetype": "text/x-python",
   "name": "python",
   "nbconvert_exporter": "python",
   "pygments_lexer": "ipython3",
   "version": "3.12.4"
  }
 },
 "nbformat": 4,
 "nbformat_minor": 5
}
